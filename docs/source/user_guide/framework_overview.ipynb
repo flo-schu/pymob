{
 "cells": [
  {
   "cell_type": "markdown",
   "id": "8cb4534f",
   "metadata": {},
   "source": [
    "# Framework overview"
   ]
  },
  {
   "cell_type": "markdown",
   "id": "eda0dec4",
   "metadata": {},
   "source": [
    "Pymob is built around {class}`pymob.simulation.Simulation`, which is the object where all necessary information are pooled. For configuration, `pymob` relies on {class}`pymob.sim.config.Config`, which uses [`pydantic`](https://docs.pydantic.dev/latest/) to validate the configuration, before it is used to set up the simulation. "
   ]
  },
  {
   "cell_type": "code",
   "execution_count": null,
   "id": "06c006f9",
   "metadata": {},
   "outputs": [
    {
     "data": {
      "text/plain": [
       "Config(case_study=Casestudy(init_root='/home/flo-schu/projects/pymob/docs/source/user_guide', root='.', name='quickstart', scenario='test', package='case_studies', modules=['sim', 'mod', 'prob', 'data', 'plot'], simulation='Simulation', output=None, data=None, observations='observations.nc', logging='DEBUG', logfile=None, output_path='case_studies/quickstart/results/test', data_path='case_studies/quickstart/data', default_settings_path='case_studies/quickstart/scenarios/test/settings.cfg'), simulation=Simulation(model=None, solver=None, y0=[], x_in=[], input_files=[], n_ode_states=1, batch_dimension='batch_id', x_dimension='time', modeltype='deterministic', solver_post_processing=None, seed=1), data_structure=Datastructure(y=DataVariable(dimensions=['x'], min=-5.690912333645177, max=5.891166954282328, observed=True, dimensions_evaluator=None)), solverbase=Solverbase(x_dim='time', exclude_kwargs_model=('t', 'time', 'x_in', 'y', 'x', 'Y', 'X'), exclude_kwargs_postprocessing=('t', 'time', 'interpolation', 'results')), jaxsolver=Jaxsolver(diffrax_solver='Dopri5', rtol=1e-06, atol=1e-07, pcoeff=0.0, icoeff=1.0, dcoeff=0.0, max_steps=100000, throw_exception=True), inference=Inference(eps=1e-08, objective_function='total_average', n_objectives=1, objective_names=[], backend=None, extra_vars=[], plot=None, n_predictions=100), model_parameters=Modelparameters(a=Param(name=None, value=0.0, dims=(), prior=None, min=None, max=None, step=None, hyper=False, free=False), b=Param(name=None, value=3.0, dims=(), prior=RandomVariable(distribution='lognorm', parameters={'scale': 1, 's': 1}, obs=None, obs_inv=None), min=None, max=None, step=None, hyper=False, free=True), sigma_y=Param(name=None, value=0.0, dims=(), prior=RandomVariable(distribution='lognorm', parameters={'scale': 1, 's': 1}, obs=None, obs_inv=None), min=None, max=None, step=None, hyper=False, free=True)), error_model=Errormodel(y=RandomVariable(distribution='normal', parameters={'loc': y, 'scale': sigma_y}, obs=None, obs_inv=None)), multiprocessing=Multiprocessing(cores=1), inference_pyabc=Pyabc(sampler='SingleCoreSampler', population_size=100, minimum_epsilon=0.0, min_eps_diff=0.0, max_nr_populations=1000, database_path='/tmp/pyabc.db'), inference_pyabc_redis=Redis(password='nopassword', port=1111, n_predictions=50, history_id=-1, model_id=0), inference_pymoo=Pymoo(algortihm='UNSGA3', population_size=100, max_nr_populations=1000, ftol=1e-05, xtol=1e-07, cvtol=1e-07, verbose=True), inference_numpyro=Numpyro(user_defined_probability_model=None, user_defined_error_model=None, user_defined_preprocessing=None, gaussian_base_distribution=False, kernel='nuts', init_strategy='init_to_uniform', chains=1, draws=2000, warmup=1000, thinning=1, nuts_draws=2000, nuts_step_size=0.8, nuts_max_tree_depth=10, nuts_target_accept_prob=0.8, nuts_dense_mass=True, sa_adapt_state_size=None, svi_iterations=10000, svi_learning_rate=0.0001))"
      ]
     },
     "metadata": {},
     "output_type": "display_data"
    }
   ],
   "source": [
    "from pymob import SimulationBase\n",
    "\n",
    "# initializing a Simulation with a config file\n",
    "sim = SimulationBase(config=\"case_studies/quickstart/scenarios/test/settings.cfg\")\n",
    "\n",
    "# accessing the config file\n",
    "sim.config"
   ]
  },
  {
   "cell_type": "markdown",
   "id": "41743f36",
   "metadata": {},
   "source": [
    "## Pymob API"
   ]
  },
  {
   "cell_type": "markdown",
   "id": "4f96f7a4",
   "metadata": {},
   "source": [
    "![framework-overview](./figures/pymob_overview.png)"
   ]
  },
  {
   "cell_type": "markdown",
   "id": "423931c4",
   "metadata": {},
   "source": [
    "### Pymob exposes the following input and output interfaces"
   ]
  },
  {
   "cell_type": "markdown",
   "id": "bb68ed20",
   "metadata": {},
   "source": [
    "#### Config\n",
    "\n",
    "Pymob uses [`pydantic`](https://docs.pydantic.dev/latest/) Models for validation of the configuration files. The configuration is organized into sections, e.g."
   ]
  },
  {
   "cell_type": "code",
   "execution_count": null,
   "id": "2ff159af",
   "metadata": {},
   "outputs": [
    {
     "data": {
      "text/plain": [
       "Datastructure(y=DataVariable(dimensions=['x'], min=-5.690912333645177, max=5.891166954282328, observed=True, dimensions_evaluator=None))"
      ]
     },
     "execution_count": 16,
     "metadata": {},
     "output_type": "execute_result"
    }
   ],
   "source": [
    "sim.config.data_structure"
   ]
  },
  {
   "cell_type": "markdown",
   "id": "7c7043b5",
   "metadata": {},
   "source": [
    "Configurations can be changed in the files before a simulation is initialized from a config file, or directly in the script."
   ]
  },
  {
   "cell_type": "code",
   "execution_count": 19,
   "id": "8812d446",
   "metadata": {},
   "outputs": [
    {
     "name": "stdout",
     "output_type": "stream",
     "text": [
      "dimensions=['x'] min=0.0 max=5.891166954282328 observed=True dimensions_evaluator=None\n"
     ]
    }
   ],
   "source": [
    "sim.config.data_structure.y.min = 0\n",
    "print(sim.config.data_structure.y)"
   ]
  },
  {
   "cell_type": "markdown",
   "id": "d4f64368",
   "metadata": {},
   "source": [
    "As can be seen in the figure above, it is the communication between Simulation class and config files is bidirectional, this means, Simulations can be created from config files or in a scripting environment, and successively exported to config files. For more information see [configuration](case_studies.md#configuration) for details"
   ]
  },
  {
   "cell_type": "markdown",
   "id": "9b65985d",
   "metadata": {},
   "source": [
    "#### Solver\n",
    "\n",
    "Solvers solve the model. In order to automatize dimension handling and solving the model for the correct coordinates. Solvers subclass {class}`pymob.solver.SolverBase`. "
   ]
  },
  {
   "cell_type": "code",
   "execution_count": 17,
   "id": "24b86107",
   "metadata": {},
   "outputs": [],
   "source": [
    "sim.solver"
   ]
  },
  {
   "cell_type": "markdown",
   "id": "940ce52d",
   "metadata": {},
   "source": [
    "#### Model\n",
    "\n",
    "Models are provided as plain Python functions. "
   ]
  },
  {
   "cell_type": "code",
   "execution_count": 18,
   "id": "c12b00a1",
   "metadata": {},
   "outputs": [],
   "source": [
    "sim.model"
   ]
  },
  {
   "cell_type": "markdown",
   "id": "01f15eab",
   "metadata": {},
   "source": [
    "#### Observations\n",
    "\n",
    "Observations are required to be xarray Datasets. An [`xarray.Dataset`](https://docs.xarray.dev/en/stable/generated/xarray.Dataset.html) is a collection of annotated arrays, using HDF5 data formats for input/output operations."
   ]
  },
  {
   "cell_type": "markdown",
   "id": "9303db33",
   "metadata": {},
   "source": [
    "#### Simulation results\n",
    "\n",
    "Simulation results are returned by the solver. Plainly they are returned as dictionaries containing NDarrays. However, due to the information contained in the observations dataset, the results dictionary is automatically casted to an [`xarray.Dataset`](https://docs.xarray.dev/en/stable/generated/xarray.Dataset.html), which has the same shape as the observations. This makes comparisons between observations and simulations extremely easy."
   ]
  },
  {
   "cell_type": "markdown",
   "id": "47d22222",
   "metadata": {},
   "source": [
    "#### Parameter estimates\n",
    "\n",
    "Parameter estimates are harmonized by reporting them as [`arviz.InferenceData`](https://python.arviz.org/en/latest/getting_started/WorkingWithInferenceData.html) using `xarray.Datasets` under the hood. Thereby `pymob` supports variably dimensional datasets\n"
   ]
  },
  {
   "cell_type": "markdown",
   "id": "1181ea95",
   "metadata": {},
   "source": [
    "## Parameter estimation"
   ]
  },
  {
   "cell_type": "markdown",
   "id": "bb23c778",
   "metadata": {},
   "source": [
    "Parameter estimation is implemented through backends, which can be seen as converters between the {class}`pymob.simulation.SimulationBase` object and the API of the Inference tool. Inference backends are selected by using "
   ]
  },
  {
   "cell_type": "code",
   "execution_count": 7,
   "id": "f185d735",
   "metadata": {},
   "outputs": [
    {
     "name": "stdout",
     "output_type": "stream",
     "text": [
      "Jax 64 bit mode: False\n",
      "Absolute tolerance: 1e-07\n"
     ]
    }
   ],
   "source": [
    "sim.set_inferer(\"numpyro\")"
   ]
  },
  {
   "cell_type": "markdown",
   "id": "ab0508b9",
   "metadata": {},
   "source": [
    "### Supported Algorithms and Planned Features"
   ]
  },
  {
   "cell_type": "markdown",
   "id": "2097cc60",
   "metadata": {},
   "source": [
    "| Backend | Supported Algorithms | Inference | Hierarchical Models |\n",
    "| :--- | --- | --- | --- |\n",
    "| `numpyro` | Markov Chain Monte Carlo (MCMC), Stochastic Variational Inference (SVI) | ✅ | ✅ |\n",
    "| `pymoo` | (Global) Multi-objective optimization | ✅ | plan |\n",
    "| `pyabc` | Approximate Bayes | ✅ | plan |\n",
    "| `scipy` | Local optimization (`minimize`) | dev | plan |\n",
    "| `pymc` | MCMC | plan | plan |\n",
    "| `sbi` | Simulation Based Inference (in planning) | hold | hold |\n",
    "| `interactive ` | interactive backend in jupyter notebookswith parameter sliders | ✅ | plan |"
   ]
  }
 ],
 "metadata": {
  "jupytext": {
   "cell_metadata_filter": "-all",
   "main_language": "python",
   "notebook_metadata_filter": "-all"
  },
  "kernelspec": {
   "display_name": "pymob",
   "language": "python",
   "name": "python3"
  },
  "language_info": {
   "codemirror_mode": {
    "name": "ipython",
    "version": 3
   },
   "file_extension": ".py",
   "mimetype": "text/x-python",
   "name": "python",
   "nbconvert_exporter": "python",
   "pygments_lexer": "ipython3",
   "version": "3.11.11"
  }
 },
 "nbformat": 4,
 "nbformat_minor": 5
}
